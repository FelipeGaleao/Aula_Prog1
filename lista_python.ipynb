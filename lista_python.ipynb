{
 "metadata": {
  "language_info": {
   "codemirror_mode": {
    "name": "ipython",
    "version": 3
   },
   "file_extension": ".py",
   "mimetype": "text/x-python",
   "name": "python",
   "nbconvert_exporter": "python",
   "pygments_lexer": "ipython3",
   "version": "3.9.1-final"
  },
  "orig_nbformat": 2,
  "kernelspec": {
   "name": "python3",
   "display_name": "Python 3.9.1 64-bit",
   "metadata": {
    "interpreter": {
     "hash": "63fd5069d213b44bf678585dea6b12cceca9941eaf7f819626cde1f2670de90d"
    }
   }
  }
 },
 "nbformat": 4,
 "nbformat_minor": 2,
 "cells": [
  {
   "cell_type": "code",
   "execution_count": 250,
   "metadata": {},
   "outputs": [
    {
     "output_type": "stream",
     "name": "stdout",
     "text": [
      "15\n"
     ]
    }
   ],
   "source": [
    "## Lista de Exercicios\n",
    "## Maycon Felipe da Silva Mota \n",
    "# RGA 2021.1906.069-7\n",
    "# \n",
    "# Exercicio 1\n",
    "\n",
    "lista_numeros = input(\"Insira o números\").split(' ')\n",
    "numero_1 = int(lista_numeros[0])\n",
    "numero_2 = int(lista_numeros[1])\n",
    "\n",
    "def multiplicarNumeros(num1, num2):\n",
    "    return num1 * num2\n",
    "\n",
    "print(multiplicarNumeros(numero_1, numero_2))\n"
   ]
  },
  {
   "cell_type": "code",
   "execution_count": 9,
   "metadata": {},
   "outputs": [
    {
     "output_type": "stream",
     "name": "stdout",
     "text": [
      "O estudante da matricula 3051216, turma Eletrotécnica, obteve media = 7\n"
     ]
    }
   ],
   "source": [
    "\n",
    "# Exercicio 2\n",
    "entrada_dados = input('Insira Matricula, Turma, Média').split(' ')\n",
    "matricula = int(entrada_dados[0])\n",
    "turma = str(entrada_dados[1])\n",
    "media = float(entrada_dados[2])\n",
    "\n",
    "print(\"O estudante da matricula %d, turma %s, obteve media = %d\" %(matricula, turma, media))\n"
   ]
  },
  {
   "cell_type": "code",
   "execution_count": 17,
   "metadata": {},
   "outputs": [
    {
     "output_type": "stream",
     "name": "stdout",
     "text": [
      "279936\n2.6457513110645907\n"
     ]
    }
   ],
   "source": [
    "# Exercicio 3\n",
    "import math\n",
    "entrada_dados = input('Insira dois numeros inteiros').split(' ')\n",
    "numero_1 = int(entrada_dados[0])\n",
    "numero_2 = int(entrada_dados[1])\n",
    "print((numero_1**numero_2))\n",
    "print(math.sqrt(numero_2))"
   ]
  },
  {
   "cell_type": "code",
   "execution_count": 44,
   "metadata": {},
   "outputs": [
    {
     "output_type": "stream",
     "name": "stdout",
     "text": [
      "1400.0\n"
     ]
    }
   ],
   "source": [
    "# Exercicio 4\n",
    "entrada_dados = input('Insira a MATRICULA, NÚMERO DE HORAS TRABALHADAS, VALOR HORA, NUMERO DE FILHOS').split(' ')\n",
    "\n",
    "matricula = int(entrada_dados[0])\n",
    "numero_horas_trabalhadas = int(entrada_dados[1])\n",
    "valor_hora = float(entrada_dados[2])\n",
    "numero_filhos = int(entrada_dados[3])\n",
    "\n",
    "\n",
    "def calcularValorTrabalho(nht, vlh):\n",
    "    valor_salario = nht*vlh\n",
    "    return valor_salario \n",
    "\n",
    "def calcularAdicionalFilho(valor_salario, quantidade_filhos):\n",
    "    valor_salario_percentual = valor_salario*0.1\n",
    "    valor_salario = valor_salario_percentual*quantidade_filhos\n",
    "    return valor_salario\n",
    "\n",
    "valor_salario = calcularValorTrabalho(numero_horas_trabalhadas, valor_hora)\n",
    "\n",
    "valor_salario += calcularAdicionalFilho(valor_salario, numero_filhos)\n",
    "\n",
    "print(valor_salario)\n"
   ]
  },
  {
   "cell_type": "code",
   "execution_count": 51,
   "metadata": {},
   "outputs": [
    {
     "output_type": "stream",
     "name": "stdout",
     "text": [
      "3064.96\n"
     ]
    }
   ],
   "source": [
    "# Exercicio 6\n",
    "entrada_dados = input(\"Insira o salario e a porcentagem de aumento\").split(' ')\n",
    "salario = float(entrada_dados[0])\n",
    "aumento = float(entrada_dados[1])\n",
    "\n",
    "def calcularAumento(salario, aumento):\n",
    "    valor_total = salario + (salario*(aumento/100))\n",
    "    return valor_total\n",
    "\n",
    "valor_receber = calcularAumento(salario, aumento)\n",
    "print(valor_receber)"
   ]
  },
  {
   "cell_type": "code",
   "execution_count": 56,
   "metadata": {},
   "outputs": [
    {
     "output_type": "stream",
     "name": "stdout",
     "text": [
      "10 110\n"
     ]
    }
   ],
   "source": [
    "# Exercicio 7 \n",
    "\n",
    "entrada_dados = input(\"Insira o valor do depósito, valor da taxa de juros\").split(' ')\n",
    "valor_deposito = float(entrada_dados[0])\n",
    "taxa_juros = float(entrada_dados[1])\n",
    "\n",
    "def calcularRendimento(valor_deposito, taxa_juros):\n",
    "    valor_total = valor_deposito*(taxa_juros/100)\n",
    "    return valor_total\n",
    "\n",
    "valor_rendimentos = int(calcularRendimento(valor_deposito, taxa_juros))\n",
    "valor_deposito_final = int(valor_rendimentos + valor_deposito)\n",
    "print(valor_rendimentos, valor_deposito_final)"
   ]
  },
  {
   "cell_type": "code",
   "execution_count": 146,
   "metadata": {},
   "outputs": [
    {
     "output_type": "stream",
     "name": "stdout",
     "text": [
      "25.0\n"
     ]
    }
   ],
   "source": [
    "# Exercicio 8\n",
    "entrada_dados = input(\"Insira o valores de base e altura\").split(' ')\n",
    "base = int(entrada_dados[0])\n",
    "altura = int(entrada_dados[1])\n",
    "\n",
    "def calcularArea(base, altura):\n",
    "    area = (base*altura)/2\n",
    "    return area\n",
    "\n",
    "area = float(calcularArea(base, altura))\n",
    "print(area)"
   ]
  },
  {
   "cell_type": "code",
   "execution_count": 147,
   "metadata": {},
   "outputs": [
    {
     "output_type": "stream",
     "name": "stdout",
     "text": [
      "314.0\n"
     ]
    }
   ],
   "source": [
    "# Exercicio 9\n",
    "entrada_dados = input(\"Insira o valor do raio\").split(' ')\n",
    "raio = int(entrada_dados[0])\n",
    "\n",
    "def calcularArea(Raio):\n",
    "    area = (3.14*(raio**2))\n",
    "    return area\n",
    "\n",
    "area = float(calcularArea(raio))\n",
    "print(area)"
   ]
  },
  {
   "cell_type": "code",
   "execution_count": 166,
   "metadata": {},
   "outputs": [
    {
     "output_type": "stream",
     "name": "stdout",
     "text": [
      "120.00000 3.33333 0.00189\n"
     ]
    }
   ],
   "source": [
    "# Exercicio 10\n",
    "\n",
    "entrada_dados = input(\"Insira o valor\").split(' ')\n",
    "valor = int(entrada_dados[0])\n",
    "\n",
    "def converterPolegadas(valor):\n",
    "    resultado = valor*12\n",
    "    return float(resultado)\n",
    "    \n",
    "def converterJardas(valor):\n",
    "    resultado = valor/3\n",
    "    return float(resultado)\n",
    "\n",
    "def converterMilhas(valor):\n",
    "    resultado = valor/1760\n",
    "    return float(resultado)\n",
    "\n",
    "valor_polegadas = converterPolegadas(valor)\n",
    "valor_jardas = converterJardas(valor)\n",
    "valor_milhas = converterMilhas(valor_jardas)\n",
    "\n",
    "print(\"{0:.5f} {1:.5f} {2:.5f}\".format(valor_polegadas, valor_jardas, valor_milhas))\n"
   ]
  },
  {
   "cell_type": "code",
   "execution_count": 168,
   "metadata": {},
   "outputs": [
    {
     "output_type": "stream",
     "name": "stdout",
     "text": [
      "28 29\n"
     ]
    }
   ],
   "source": [
    "# Exercicio 11\n",
    "\n",
    "entrada_dados = input(\"Insira o valor de entrada\").split(' ')\n",
    "ano_nascimento = int(entrada_dados[0])\n",
    "ano_atual = int(entrada_dados[1])\n",
    "\n",
    "def calcularIdade(ano_atual, ano_nascimento):\n",
    "    idade = ano_atual-ano_nascimento\n",
    "    return idade\n",
    "\n",
    "idade = calcularIdade(ano_atual, ano_nascimento)\n",
    "print(\"{0} {1}\".format(idade, calcularIdade(2014, ano_nascimento)))"
   ]
  },
  {
   "cell_type": "code",
   "execution_count": 235,
   "metadata": {},
   "outputs": [
    {
     "output_type": "stream",
     "name": "stdout",
     "text": [
      "299.2400\n"
     ]
    }
   ],
   "source": [
    "# Exercicio 12\n",
    "\n",
    "entrada_dados = input(\"Insira os valores de entrada\").split(' ')\n",
    "\n",
    "deposito_inicial = float(entrada_dados[0])\n",
    "saques = list(map(int, entrada_dados[1:]))\n",
    "valor_saques = int(len(saques))*0.38\n",
    "valor_atual = deposito_inicial - valor_saques - sum(saques)\n",
    "\n",
    "print(\"{0:.4f}\".format(valor_atual))"
   ]
  },
  {
   "cell_type": "code",
   "execution_count": 242,
   "metadata": {},
   "outputs": [
    {
     "output_type": "stream",
     "name": "stdout",
     "text": [
      "1750.0\n"
     ]
    }
   ],
   "source": [
    "# Exercicio 13\n",
    "entrada_dados = input(\"\").split(' ')\n",
    "f1 = float(entrada_dados[0])\n",
    "f2 = float(entrada_dados[1])\n",
    "\n",
    "def calcularCustoMininmo(f1, f2):\n",
    "    qtd_minima = f1/f2\n",
    "    return qtd_minima\n",
    "\n",
    "qtd_minima = calcularCustoMininmo(f1, f2)\n",
    "print(qtd_minima)"
   ]
  },
  {
   "cell_type": "code",
   "execution_count": 244,
   "metadata": {},
   "outputs": [
    {
     "output_type": "stream",
     "name": "stdout",
     "text": [
      "25.0000\n"
     ]
    }
   ],
   "source": [
    "# Exercicio 14\n",
    "entrada_dados = input(\"\").split(' ')\n",
    "\n",
    "f1 = float(entrada_dados[0])\n",
    "f2 = float(entrada_dados[1])\n",
    "\n",
    "def calcularArea(f1, f2):\n",
    "    area = ((f1*f2)/2)\n",
    "    return area\n",
    "\n",
    "print(\"{0:.4f}\".format(calcularArea(f1, f2)))"
   ]
  },
  {
   "cell_type": "code",
   "execution_count": 249,
   "metadata": {},
   "outputs": [
    {
     "output_type": "stream",
     "name": "stdout",
     "text": [
      "7.37\n"
     ]
    }
   ],
   "source": [
    "# Exercicio 15\n",
    "entrada_dados = input(\"\").split(' ')\n",
    "f1 = float(entrada_dados[0])\n",
    "f2 = float(entrada_dados[1])\n",
    "\n",
    "def calcularQtdSalariosMinimos(f1, f2):\n",
    "    qtd = f2/f1\n",
    "    return qtd\n",
    "\n",
    "print(\"{0:.2f}\".format(calcularQtdSalariosMinimos(f1, f2)))"
   ]
  }
 ]
}