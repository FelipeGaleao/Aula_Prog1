{
 "metadata": {
  "language_info": {
   "codemirror_mode": {
    "name": "ipython",
    "version": 3
   },
   "file_extension": ".py",
   "mimetype": "text/x-python",
   "name": "python",
   "nbconvert_exporter": "python",
   "pygments_lexer": "ipython3",
   "version": "3.9.1-final"
  },
  "orig_nbformat": 2,
  "kernelspec": {
   "name": "python3",
   "display_name": "Python 3.9.1 64-bit",
   "metadata": {
    "interpreter": {
     "hash": "63fd5069d213b44bf678585dea6b12cceca9941eaf7f819626cde1f2670de90d"
    }
   }
  }
 },
 "nbformat": 4,
 "nbformat_minor": 2,
 "cells": [
  {
   "cell_type": "code",
   "execution_count": 18,
   "metadata": {},
   "outputs": [
    {
     "output_type": "stream",
     "name": "stdout",
     "text": [
      "42\n"
     ]
    }
   ],
   "source": [
    "## Lista de Exercicios\n",
    "\n",
    "# Exercicio 1\n",
    "\n",
    "lista_numeros = input(\"Insira o números\").split(' ')\n",
    "numero_1 = int(lista_numeros[0])\n",
    "numero_2 = int(lista_numeros[1])\n",
    "\n",
    "def multiplicarNumeros(num1, num2):\n",
    "    return num1 * num2\n",
    "\n",
    "print(multiplicarNumeros(numero_1, numero_2))\n"
   ]
  },
  {
   "cell_type": "code",
   "execution_count": 9,
   "metadata": {},
   "outputs": [
    {
     "output_type": "stream",
     "name": "stdout",
     "text": [
      "O estudante da matricula 3051216, turma Eletrotécnica, obteve media = 7\n"
     ]
    }
   ],
   "source": [
    "\n",
    "# Exercicio 2\n",
    "entrada_dados = input('Insira Matricula, Turma, Média').split(' ')\n",
    "matricula = int(entrada_dados[0])\n",
    "turma = str(entrada_dados[1])\n",
    "media = float(entrada_dados[2])\n",
    "\n",
    "print(\"O estudante da matricula %d, turma %s, obteve media = %d\" %(matricula, turma, media))\n"
   ]
  },
  {
   "cell_type": "code",
   "execution_count": 17,
   "metadata": {},
   "outputs": [
    {
     "output_type": "stream",
     "name": "stdout",
     "text": [
      "279936\n2.6457513110645907\n"
     ]
    }
   ],
   "source": [
    "# Exercicio 3\n",
    "import math\n",
    "entrada_dados = input('Insira dois numeros inteiros').split(' ')\n",
    "numero_1 = int(entrada_dados[0])\n",
    "numero_2 = int(entrada_dados[1])\n",
    "print((numero_1**numero_2))\n",
    "print(math.sqrt(numero_2))"
   ]
  },
  {
   "cell_type": "code",
   "execution_count": 44,
   "metadata": {},
   "outputs": [
    {
     "output_type": "stream",
     "name": "stdout",
     "text": [
      "1400.0\n"
     ]
    }
   ],
   "source": [
    "# Exercicio 4\n",
    "entrada_dados = input('Insira a MATRICULA, NÚMERO DE HORAS TRABALHADAS, VALOR HORA, NUMERO DE FILHOS').split(' ')\n",
    "\n",
    "matricula = int(entrada_dados[0])\n",
    "numero_horas_trabalhadas = int(entrada_dados[1])\n",
    "valor_hora = float(entrada_dados[2])\n",
    "numero_filhos = int(entrada_dados[3])\n",
    "\n",
    "\n",
    "def calcularValorTrabalho(nht, vlh):\n",
    "    valor_salario = nht*vlh\n",
    "    return valor_salario \n",
    "\n",
    "def calcularAdicionalFilho(valor_salario, quantidade_filhos):\n",
    "    valor_salario_percentual = valor_salario*0.1\n",
    "    valor_salario = valor_salario_percentual*quantidade_filhos\n",
    "    return valor_salario\n",
    "\n",
    "valor_salario = calcularValorTrabalho(numero_horas_trabalhadas, valor_hora)\n",
    "\n",
    "valor_salario += calcularAdicionalFilho(valor_salario, numero_filhos)\n",
    "\n",
    "print(valor_salario)\n"
   ]
  },
  {
   "cell_type": "code",
   "execution_count": 51,
   "metadata": {},
   "outputs": [
    {
     "output_type": "stream",
     "name": "stdout",
     "text": [
      "3064.96\n"
     ]
    }
   ],
   "source": [
    "# Exercicio 6\n",
    "entrada_dados = input(\"Insira o salario e a porcentagem de aumento\").split(' ')\n",
    "salario = float(entrada_dados[0])\n",
    "aumento = float(entrada_dados[1])\n",
    "\n",
    "def calcularAumento(salario, aumento):\n",
    "    valor_total = salario + (salario*(aumento/100))\n",
    "    return valor_total\n",
    "\n",
    "valor_receber = calcularAumento(salario, aumento)\n",
    "print(valor_receber)"
   ]
  },
  {
   "cell_type": "code",
   "execution_count": 56,
   "metadata": {},
   "outputs": [
    {
     "output_type": "stream",
     "name": "stdout",
     "text": [
      "10 110\n"
     ]
    }
   ],
   "source": [
    "# Exercicio 7 \n",
    "\n",
    "entrada_dados = input(\"Insira o valor do depósito, valor da taxa de juros\").split(' ')\n",
    "valor_deposito = float(entrada_dados[0])\n",
    "taxa_juros = float(entrada_dados[1])\n",
    "\n",
    "def calcularRendimento(valor_deposito, taxa_juros):\n",
    "    valor_total = valor_deposito*(taxa_juros/100)\n",
    "    return valor_total\n",
    "\n",
    "valor_rendimentos = int(calcularRendimento(valor_deposito, taxa_juros))\n",
    "valor_deposito_final = int(valor_rendimentos + valor_deposito)\n",
    "print(valor_rendimentos, valor_deposito_final)"
   ]
  }
 ]
}